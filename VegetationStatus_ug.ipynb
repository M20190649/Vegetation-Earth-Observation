{
 "cells": [
  {
   "cell_type": "markdown",
   "id": "7ac0968f-6071-419a-9481-593a39b1beac",
   "metadata": {},
   "source": [
    "# Vegetation Status Mapping in Uganda's Urban Metropolitans.\n",
    "Mapping vegetation status using remote sensing vegetation indices has significantly contributed to the provision of actional measures for improving environmental monitoring and natural resource management. This script takes the initiative to exploit remote sensing technologies by implementing industry vegetation indices to derive vegetation status coverage. (The script allows analysis for other study areas by assigning the district name as a variable). With a focus on Uganda urban metropolitans, this analysis focuses on Gulu district which is one of districts that recnt achieved city status.\n",
    "\n",
    "This expiremental notebook uses the [Sentinel-2 L2A surface reflectance](https://developers.google.com/earth-engine/datasets/catalog/COPERNICUS_S2_SR) data products available in the GEE asset catalog from **2017-03-28** to **present** to characterise indicators of vegetation status. This study is based on **2023-01-01** to **2024-01-01**"
   ]
  },
  {
   "cell_type": "code",
   "execution_count": 26,
   "id": "447e7441-8bec-4e34-922e-e93a908d2b0a",
   "metadata": {},
   "outputs": [
    {
     "data": {
      "text/html": [
       "\n",
       "            <style>\n",
       "                .geemap-dark {\n",
       "                    --jp-widgets-color: white;\n",
       "                    --jp-widgets-label-color: white;\n",
       "                    --jp-ui-font-color1: white;\n",
       "                    --jp-layout-color2: #454545;\n",
       "                    background-color: #383838;\n",
       "                }\n",
       "\n",
       "                .geemap-dark .jupyter-button {\n",
       "                    --jp-layout-color3: #383838;\n",
       "                }\n",
       "\n",
       "                .geemap-colab {\n",
       "                    background-color: var(--colab-primary-surface-color, white);\n",
       "                }\n",
       "\n",
       "                .geemap-colab .jupyter-button {\n",
       "                    --jp-layout-color3: var(--colab-primary-surface-color, white);\n",
       "                }\n",
       "            </style>\n",
       "            "
      ],
      "text/plain": [
       "<IPython.core.display.HTML object>"
      ]
     },
     "metadata": {},
     "output_type": "display_data"
    }
   ],
   "source": [
    "import os\n",
    "import subprocess\n",
    "import calendar\n",
    "from datetime import datetime\n",
    "# This module is for displaying results interactively:\n",
    "try:\n",
    "    import geemap\n",
    "except ImportError:\n",
    "    print('Installing geemap ...')\n",
    "    subprocess.check_call([\"python\", '-m', 'pip', 'install', 'geemap'])\n",
    "\n",
    "# Earth Engine module\n",
    "try:\n",
    "    import ee\n",
    "except ImportError:\n",
    "    print('Installing ee ...')\n",
    "    subprocess.check_call([\"python\", '-m', 'pip', 'install', 'earthengine-api'])\n",
    "    \n",
    "# This module extends Google Earth Engine functionality\n",
    "try:\n",
    "    import eemont\n",
    "except ImportError:\n",
    "    print('Installing eemont ...')\n",
    "    subprocess.check_call([\"python\", '-m', 'pip', 'install', 'eemont'])"
   ]
  },
  {
   "cell_type": "code",
   "execution_count": 34,
   "id": "73b4b835-d460-4e89-8ede-46ce1ee4962f",
   "metadata": {},
   "outputs": [
    {
     "data": {
      "text/html": [
       "\n",
       "            <style>\n",
       "                .geemap-dark {\n",
       "                    --jp-widgets-color: white;\n",
       "                    --jp-widgets-label-color: white;\n",
       "                    --jp-ui-font-color1: white;\n",
       "                    --jp-layout-color2: #454545;\n",
       "                    background-color: #383838;\n",
       "                }\n",
       "\n",
       "                .geemap-dark .jupyter-button {\n",
       "                    --jp-layout-color3: #383838;\n",
       "                }\n",
       "\n",
       "                .geemap-colab {\n",
       "                    background-color: var(--colab-primary-surface-color, white);\n",
       "                }\n",
       "\n",
       "                .geemap-colab .jupyter-button {\n",
       "                    --jp-layout-color3: var(--colab-primary-surface-color, white);\n",
       "                }\n",
       "            </style>\n",
       "            "
      ],
      "text/plain": [
       "<IPython.core.display.HTML object>"
      ]
     },
     "metadata": {},
     "output_type": "display_data"
    }
   ],
   "source": [
    "ee.Authenticate()\n",
    "ee.Initialize()\n",
    "#Please follow intructions to get the authorisation code from Google earth engine"
   ]
  },
  {
   "cell_type": "code",
   "execution_count": 28,
   "id": "05b4ddfc-3cb7-4ed2-9703-13619dae7c19",
   "metadata": {},
   "outputs": [
    {
     "data": {
      "text/html": [
       "\n",
       "            <style>\n",
       "                .geemap-dark {\n",
       "                    --jp-widgets-color: white;\n",
       "                    --jp-widgets-label-color: white;\n",
       "                    --jp-ui-font-color1: white;\n",
       "                    --jp-layout-color2: #454545;\n",
       "                    background-color: #383838;\n",
       "                }\n",
       "\n",
       "                .geemap-dark .jupyter-button {\n",
       "                    --jp-layout-color3: #383838;\n",
       "                }\n",
       "\n",
       "                .geemap-colab {\n",
       "                    background-color: var(--colab-primary-surface-color, white);\n",
       "                }\n",
       "\n",
       "                .geemap-colab .jupyter-button {\n",
       "                    --jp-layout-color3: var(--colab-primary-surface-color, white);\n",
       "                }\n",
       "            </style>\n",
       "            "
      ],
      "text/plain": [
       "<IPython.core.display.HTML object>"
      ]
     },
     "metadata": {},
     "output_type": "display_data"
    }
   ],
   "source": [
    "#data and study area\n",
    "start_date = '2023-01-01'\n",
    "end_date = '2024-01-01'\n",
    "cloud_percentage = 10\n",
    "feature_asset = 'projects/ee-edwig/assets/Uganda'\n",
    "demarcation_type = 'DName2016'\n",
    "region_name = 'GULU'\n",
    "roi = ee.FeatureCollection(feature_asset) \\\n",
    "            .filter(ee.Filter.eq(demarcation_type, region_name))\n"
   ]
  },
  {
   "cell_type": "code",
   "execution_count": 29,
   "id": "abcc18da-4e03-4b1b-bb3f-4ef62b337dab",
   "metadata": {},
   "outputs": [
    {
     "data": {
      "text/html": [
       "\n",
       "            <style>\n",
       "                .geemap-dark {\n",
       "                    --jp-widgets-color: white;\n",
       "                    --jp-widgets-label-color: white;\n",
       "                    --jp-ui-font-color1: white;\n",
       "                    --jp-layout-color2: #454545;\n",
       "                    background-color: #383838;\n",
       "                }\n",
       "\n",
       "                .geemap-dark .jupyter-button {\n",
       "                    --jp-layout-color3: #383838;\n",
       "                }\n",
       "\n",
       "                .geemap-colab {\n",
       "                    background-color: var(--colab-primary-surface-color, white);\n",
       "                }\n",
       "\n",
       "                .geemap-colab .jupyter-button {\n",
       "                    --jp-layout-color3: var(--colab-primary-surface-color, white);\n",
       "                }\n",
       "            </style>\n",
       "            "
      ],
      "text/plain": [
       "<IPython.core.display.HTML object>"
      ]
     },
     "metadata": {},
     "output_type": "display_data"
    }
   ],
   "source": [
    "def level_pick(options, statement):\n",
    "        print(statement)\n",
    "        for idx, element in enumerate(options):\n",
    "            print(\"{}) {}\".format(idx + 1, element))\n",
    "        i = input(\"Enter a number: \")\n",
    "        try:\n",
    "            if 0 < int(i) <= len(options):\n",
    "                return int(i) - 1\n",
    "        except:\n",
    "            pass\n",
    "        return None"
   ]
  },
  {
   "cell_type": "markdown",
   "id": "2fa4e8e0-fe26-467e-87e2-71315e6c950f",
   "metadata": {},
   "source": [
    "### Classification threshold parameters"
   ]
  },
  {
   "cell_type": "code",
   "execution_count": 30,
   "id": "f4f1bd05-3ca2-4ac6-b1b4-7a8d77c65f52",
   "metadata": {},
   "outputs": [
    {
     "data": {
      "text/html": [
       "\n",
       "            <style>\n",
       "                .geemap-dark {\n",
       "                    --jp-widgets-color: white;\n",
       "                    --jp-widgets-label-color: white;\n",
       "                    --jp-ui-font-color1: white;\n",
       "                    --jp-layout-color2: #454545;\n",
       "                    background-color: #383838;\n",
       "                }\n",
       "\n",
       "                .geemap-dark .jupyter-button {\n",
       "                    --jp-layout-color3: #383838;\n",
       "                }\n",
       "\n",
       "                .geemap-colab {\n",
       "                    background-color: var(--colab-primary-surface-color, white);\n",
       "                }\n",
       "\n",
       "                .geemap-colab .jupyter-button {\n",
       "                    --jp-layout-color3: var(--colab-primary-surface-color, white);\n",
       "                }\n",
       "            </style>\n",
       "            "
      ],
      "text/plain": [
       "<IPython.core.display.HTML object>"
      ]
     },
     "metadata": {},
     "output_type": "display_data"
    }
   ],
   "source": [
    "thresholds_vi = ee.Image([0.2, 0.3, 0.4, 0.6, 0.8])\n",
    "thresholds_lai = ee.Image([0.5, 1, 2, 3, 3.5])\n",
    "thresholds_nmdi_veg = ee.Image([0.2, 0.4, 0.6, 0.8])\n",
    "thresholds_nmdi_soil = ee.Image([0.7, 0.5, 0.3, 0.15])\n",
    "thresholds_fpi = ee.Image([0.2, 0.4, 0.6, 0.8])\n",
    "thresholds_ccci = ee.Image([0.1, 0.3, 0.6, 0.7, 0.9])"
   ]
  },
  {
   "cell_type": "markdown",
   "id": "0d9546c9-4b0a-4720-a0c6-0b6a3ba8821b",
   "metadata": {},
   "source": [
    "#### Visualization palettes and parameters"
   ]
  },
  {
   "cell_type": "code",
   "execution_count": 31,
   "id": "21494a93-5c91-4f97-8645-6dffe6cdf6ef",
   "metadata": {},
   "outputs": [
    {
     "data": {
      "text/html": [
       "\n",
       "            <style>\n",
       "                .geemap-dark {\n",
       "                    --jp-widgets-color: white;\n",
       "                    --jp-widgets-label-color: white;\n",
       "                    --jp-ui-font-color1: white;\n",
       "                    --jp-layout-color2: #454545;\n",
       "                    background-color: #383838;\n",
       "                }\n",
       "\n",
       "                .geemap-dark .jupyter-button {\n",
       "                    --jp-layout-color3: #383838;\n",
       "                }\n",
       "\n",
       "                .geemap-colab {\n",
       "                    background-color: var(--colab-primary-surface-color, white);\n",
       "                }\n",
       "\n",
       "                .geemap-colab .jupyter-button {\n",
       "                    --jp-layout-color3: var(--colab-primary-surface-color, white);\n",
       "                }\n",
       "            </style>\n",
       "            "
      ],
      "text/plain": [
       "<IPython.core.display.HTML object>"
      ]
     },
     "metadata": {},
     "output_type": "display_data"
    }
   ],
   "source": [
    "ndvi_palette = ['#D3D3D3','#9c8448','#cccc66','#9cab68','#306466']\n",
    "\n",
    "lai_palette = ['DF923D', 'F1B555', '99B718', '004C00', '011301']\n",
    "\n",
    "#nmdi_palette = ['#DED799', '#A6B7B2', '#6F97CC', '#0057FF']\n",
    "nmdi_palette = ['#ADD8E6', '#0000FF', '#00008B', '#000080']\n",
    "\n",
    "fpi_palette = ['#FF0000', '#FFD700', '#90EE90', '#008000', '#0000FF']\n",
    "\n",
    "ccci_palette = ['#440154', '#3E518A', '#21908C', '#5DC863', '#FDE724']\n",
    "# Visualization parameters\n",
    "\n",
    "rgb_viz = {\n",
    "            'bands': ['B4','B3','B2'],\n",
    "            'min': 0,\n",
    "            'max': 0.3,\n",
    "            'gamma': 2\n",
    "            }\n",
    "\n",
    "ndvi_viz = {\n",
    "            'max': 1, \n",
    "            'min': 0, \n",
    "            'palette': [\n",
    "                       '#0000ff', '#DF923D', '#F1B555',\n",
    "                       '#FCD163', '#99B718', '#74A901', \n",
    "                       '#66A000', '#529400', '#3E8601', \n",
    "                       '#207401','#056201', '#004C00', \n",
    "                       '#023B01', '#012E01', '#011D01', \n",
    "                       '#011301']\n",
    "            }\n",
    "\n",
    "fpi_viz = {\n",
    "            'min': 0,\n",
    "            'max': 1,\n",
    "            'palette': fpi_palette,\n",
    "            'opacity': 0.75\n",
    "            }\n",
    "\n",
    "ndvi_class_viz = {\n",
    "            'min': 0, \n",
    "            'max': 4, \n",
    "            'palette': ndvi_palette,\n",
    "            'opacity': 0.75\n",
    "            }\n",
    "\n",
    "lai_class_viz = {\n",
    "            'min': 0, \n",
    "            'max': 4, \n",
    "            'palette': lai_palette,\n",
    "            'opacity': 0.75\n",
    "            }\n",
    "\n",
    "nmdi_class_viz = {\n",
    "            'min':0, \n",
    "            'max':4, \n",
    "            'palette':nmdi_palette,\n",
    "            'opacity': 0.75\n",
    "            }\n",
    "\n",
    "fpi_class_viz = {\n",
    "            'min': 0, \n",
    "            'max': 4, \n",
    "            'palette': fpi_palette,\n",
    "            'opacity': 0.75\n",
    "            }\n",
    "\n",
    "ccci_class_viz = {\n",
    "    'min': 0,\n",
    "    'max': 4,\n",
    "    'palette': ccci_palette,\n",
    "}\n",
    "\n",
    "\n",
    "# Legend dictionaries\n",
    "legend_dict = {\n",
    "    \"Non Vegetated Areas/sparse\": \"#D3D3D3\",\n",
    "    \"Low Vegetation Vigour\": \"#9c8448\",\n",
    "    \"Moderate Vegetation Vigour\": \"#cccc66\",\n",
    "    \"Moderate-high Vegetation Vigour\": \"#9cab68\",\n",
    "    \"High Vegetation Vigour\": \"#306466\",\n",
    "}\n",
    "\n",
    "lai_legend_dict = {\n",
    "    \"up to 50 m^2 per 100 m^2\": \"#DF923D\",\n",
    "    \"up to 100 m^2 per 100 m^2\": \"#F1B555\",\n",
    "    \"up to 200 m^2 per 100 m^2\": \"#99B718\",\n",
    "    \"up to 300 m^2 per 100 m^2\": \"#004C00\",\n",
    "    \">= 350 m^2 per 100 m^2\": \"#011301\",\n",
    "}\n",
    "\n",
    "nmdi_legend_dict = {  \n",
    "    \"Very dry canopy\": \"#ADD8E6\",\n",
    "    \"Dry canopy\": \"#0000FF\",\n",
    "    \"Wet canopy\": \"#00008B\",\n",
    "    \"Very wet canopy\": \"#000080\",\n",
    "}\n",
    "\n",
    "\n",
    "fpi_legend_dict = {\n",
    "    \"Very high\": \"#FF0000\",\n",
    "    \"High\": \"#FFD700\",\n",
    "    \"Medium\": \"#90EE90\",\n",
    "    \"Low\": \"#008000\",\n",
    "    \"Very low\": \"#0000FF\",\n",
    "}\n",
    "\n",
    "ccci_legend_dict = {\n",
    "    'Low Chlorophyll': ccci_palette[0],\n",
    "    'Moderate Low Chlorophyll': ccci_palette[1],\n",
    "    'Moderate Chlorophyll': ccci_palette[2],\n",
    "    'Moderate High Chlorophyll': ccci_palette[3],\n",
    "    'High Chlorophyll': ccci_palette[4],\n",
    "}"
   ]
  },
  {
   "cell_type": "markdown",
   "id": "98c1b78c-79f0-4fa3-ae6a-9cbcf4097bac",
   "metadata": {},
   "source": [
    "## Vegetation Health\n",
    "\n",
    "Evaluating the health of the vegetation canopy frequently requires employing various remote sensing indices, which prove useful in identifying problematic areas. For example, regions in a field with an exceptionally low NDVI rate may indicate issues with pests or plant diseases, while areas displaying an unusually high NDVI could signify the presence of weeds. The choice of the appropriate index depends on factors such as the type of crop and the specific application for which it will be used.\n",
    "\n",
    "Sentinel-2 surface reflectance bands offer the capability to compute the following indices:\n",
    "\n",
    "1. **Normalized Difference Vegetation Index (NDVI):** NDVI is a widely-used metric for quantifying vegetation greenness and vigor. Elevated NDVI values typically indicate robust and dense vegetation. References: https://ntrs.nasa.gov/citations/19740022614\n",
    "\n",
    "2. **Enhanced Vegetation Index (EVI):** Designed to mitigate influences from soil and atmosphere, EVI represents an enhancement over NDVI. It proves valuable for evaluating overall vegetation health and vigor. References: https://doi.org/10.1016/S0034-4257(96)00112-5\n",
    "\n",
    "3. **Normalized Difference Vegetation Index (kNDVI):** kNDVI is a measure related to Leaf Area Index (LAI), providing insights into the amount of leaf material in a canopy. It contributes valuable information about vegetation structure and health. References: https://www.science.org/doi/10.1126/sciadv.abc7447\n",
    "\n",
    "4. **Modified Soil-Adjusted Vegetation Index (MSAVI):** . This index provides accurate results for fewer vegetation areas where NDVI provides invalid data due to the low chlorophyll content. Therefore, is more suitable to monitoring of crop conditions at their earliest developmental stages where there are less vegetation and low growth. References:https://doi.org/10.1016/0034-4257(94)90134-1https://doi.org/10.1016/0034-4257(94)90134-1\n",
    "\n",
    "\n"
   ]
  },
  {
   "cell_type": "code",
   "execution_count": 32,
   "id": "29d9f70f-3050-4800-a201-491267f74779",
   "metadata": {},
   "outputs": [
    {
     "data": {
      "text/html": [
       "\n",
       "            <style>\n",
       "                .geemap-dark {\n",
       "                    --jp-widgets-color: white;\n",
       "                    --jp-widgets-label-color: white;\n",
       "                    --jp-ui-font-color1: white;\n",
       "                    --jp-layout-color2: #454545;\n",
       "                    background-color: #383838;\n",
       "                }\n",
       "\n",
       "                .geemap-dark .jupyter-button {\n",
       "                    --jp-layout-color3: #383838;\n",
       "                }\n",
       "\n",
       "                .geemap-colab {\n",
       "                    background-color: var(--colab-primary-surface-color, white);\n",
       "                }\n",
       "\n",
       "                .geemap-colab .jupyter-button {\n",
       "                    --jp-layout-color3: var(--colab-primary-surface-color, white);\n",
       "                }\n",
       "            </style>\n",
       "            "
      ],
      "text/plain": [
       "<IPython.core.display.HTML object>"
      ]
     },
     "metadata": {},
     "output_type": "display_data"
    },
    {
     "name": "stdout",
     "output_type": "stream",
     "text": [
      "Which index would you like to utilize for evaluating the health of the vegetation canopy?\n",
      "1) Normalized Difference Vegetation Index (NDVI)\n",
      "2) Enhanced Vegetation Index (EVI)\n",
      "3) Unified Normalized Difference Vegetation Index (kNDVI)\n",
      "4) Modified Soil-Adjusted Vegetation Index (MSAVI)\n"
     ]
    },
    {
     "name": "stdin",
     "output_type": "stream",
     "text": [
      "Enter a number:  2\n"
     ]
    }
   ],
   "source": [
    "options = [\"Normalized Difference Vegetation Index (NDVI)\", \"Enhanced Vegetation Index (EVI)\", \"Unified Normalized Difference Vegetation Index (kNDVI)\",\"Modified Soil-Adjusted Vegetation Index (MSAVI)\"]\n",
    "index = level_pick(options, \"Which index would you like to utilize for evaluating the health of the vegetation canopy?\")\n",
    "# I use option 2, the EVI which represents an enhancement over NDVI. It proves valuable for evaluating overall vegetation health and vigor. \n",
    "if index == 0:\n",
    "    vi_index = 'NDVI'\n",
    "elif index == 1:\n",
    "    vi_index = 'EVI'\n",
    "elif index == 2:\n",
    "    vi_index = 'kNDVI'\n",
    "elif index == 3:\n",
    "    vi_index = 'MSAVI'\n",
    "else:\n",
    "    print('Enter a valid input')"
   ]
  },
  {
   "cell_type": "code",
   "execution_count": 33,
   "id": "16357200-1f4c-4950-bd02-2f9266ad1229",
   "metadata": {},
   "outputs": [
    {
     "data": {
      "text/html": [
       "\n",
       "            <style>\n",
       "                .geemap-dark {\n",
       "                    --jp-widgets-color: white;\n",
       "                    --jp-widgets-label-color: white;\n",
       "                    --jp-ui-font-color1: white;\n",
       "                    --jp-layout-color2: #454545;\n",
       "                    background-color: #383838;\n",
       "                }\n",
       "\n",
       "                .geemap-dark .jupyter-button {\n",
       "                    --jp-layout-color3: #383838;\n",
       "                }\n",
       "\n",
       "                .geemap-colab {\n",
       "                    background-color: var(--colab-primary-surface-color, white);\n",
       "                }\n",
       "\n",
       "                .geemap-colab .jupyter-button {\n",
       "                    --jp-layout-color3: var(--colab-primary-surface-color, white);\n",
       "                }\n",
       "            </style>\n",
       "            "
      ],
      "text/plain": [
       "<IPython.core.display.HTML object>"
      ]
     },
     "metadata": {},
     "output_type": "display_data"
    },
    {
     "data": {
      "application/vnd.jupyter.widget-view+json": {
       "model_id": "34a09ced76134db290d4f8d0285fe62e",
       "version_major": 2,
       "version_minor": 0
      },
      "text/plain": [
       "Map(center=[2.9774794713318813, 32.394373134471905], controls=(ZoomControl(options=['position', 'zoom_in_text'…"
      ]
     },
     "execution_count": 33,
     "metadata": {},
     "output_type": "execute_result"
    }
   ],
   "source": [
    "# Search image collection\n",
    "s2 = ee.ImageCollection('COPERNICUS/S2_SR') \\\n",
    "    .filterBounds(roi) \\\n",
    "    .filterDate(start_date, end_date) \\\n",
    "    .select('B2','B3','B4','B6','B8','B11','B12','QA60','SCL') \\\n",
    "    .filter(ee.Filter.lt('CLOUDY_PIXEL_PERCENTAGE', cloud_percentage)) \\\n",
    "\n",
    "s2_preprocessed = s2.preprocess()\n",
    "\n",
    "# Calculate vegetation index, Generate median composite and clip to stufy area\n",
    "vi_composite = s2_preprocessed.spectralIndices([vi_index]).median().clip(roi)\n",
    "\n",
    "\n",
    "# Create classified image by summing values that are either less or greater than defined thresholds\n",
    "vi_classes = vi_composite.select(vi_index).gte(thresholds_vi).reduce('sum').toInt()\n",
    "        \n",
    "\n",
    "# Mask out non-vegetated areas\n",
    "bin_mask = vi_classes.eq(0)\n",
    "mask = bin_mask.eq(0)\n",
    "masked = vi_classes.updateMask(mask)\n",
    "vi_classes = masked\n",
    "\n",
    "# Display interactively\n",
    "vigour_map = geemap.Map()\n",
    "left_layer = geemap.ee_tile_layer(vi_classes, ndvi_class_viz, \n",
    "                                  'Health (' + start_date + ' to ' + end_date + ')')\n",
    "right_layer = geemap.ee_tile_layer(vi_composite, rgb_viz, \n",
    "                                  'RGB (' + start_date + ' to ' + end_date + ')')\n",
    "vigour_map.split_map(left_layer = left_layer, right_layer = right_layer)\n",
    "vigour_map.centerObject(roi, 12)\n",
    "vigour_map.add_legend(title='Vegetation Canopy Health', legend_dict=legend_dict, draggable=False, position='bottomleft')\n",
    "vigour_map"
   ]
  },
  {
   "cell_type": "markdown",
   "id": "eba68b69-bc79-40b3-aafc-679c9aae2b81",
   "metadata": {},
   "source": [
    "## Vegetation yield\n",
    "\n",
    "Vegetation yield pertains to the amount of harvested crops or forage generated by a specific land area over a given period, typically quantified by the weight or volume of the harvest.\n",
    "\n",
    "**Leaf Area Index (LAI):**,serving as a measure of leaf material in a canopy, provides information on leaf area (m²) per 100 m², offering a measure to estimate the yield of vegetated areas. Higher LAI values indicate areas with greater potential yield, and the resulting map can serve as an indicator to identify regions where soil may lack sufficient fertilization. (Source: [Airborne Multi-Spectral Data for Quantifying Leaf Area Index](https://forskning.ruc.dk/en/publications/airborne-multi-spectral-data-for-quantifying-leaf-area-index-nitr))"
   ]
  },
  {
   "cell_type": "code",
   "execution_count": 22,
   "id": "f845bc3d-ddd6-4452-a596-9cff6ea5ba58",
   "metadata": {},
   "outputs": [
    {
     "data": {
      "text/html": [
       "\n",
       "            <style>\n",
       "                .geemap-dark {\n",
       "                    --jp-widgets-color: white;\n",
       "                    --jp-widgets-label-color: white;\n",
       "                    --jp-ui-font-color1: white;\n",
       "                    --jp-layout-color2: #454545;\n",
       "                    background-color: #383838;\n",
       "                }\n",
       "\n",
       "                .geemap-dark .jupyter-button {\n",
       "                    --jp-layout-color3: #383838;\n",
       "                }\n",
       "\n",
       "                .geemap-colab {\n",
       "                    background-color: var(--colab-primary-surface-color, white);\n",
       "                }\n",
       "\n",
       "                .geemap-colab .jupyter-button {\n",
       "                    --jp-layout-color3: var(--colab-primary-surface-color, white);\n",
       "                }\n",
       "            </style>\n",
       "            "
      ],
      "text/plain": [
       "<IPython.core.display.HTML object>"
      ]
     },
     "metadata": {},
     "output_type": "display_data"
    },
    {
     "data": {
      "application/vnd.jupyter.widget-view+json": {
       "model_id": "a85f708fed084d4d96d346c4e5f35c26",
       "version_major": 2,
       "version_minor": 0
      },
      "text/plain": [
       "Map(center=[2.9774794713318813, 32.394373134471905], controls=(ZoomControl(options=['position', 'zoom_in_text'…"
      ]
     },
     "execution_count": 22,
     "metadata": {},
     "output_type": "execute_result"
    }
   ],
   "source": [
    "def cal_lai(image):\n",
    "    # Calculate EVI\n",
    "    evi = image.expression('float(2.5 * ((NIR - RED) / (NIR + 6 * RED - 7.5 * BLUE + 1)))', {\n",
    "        'NIR': image.select('B8'),\n",
    "        'RED': image.select('B4'),\n",
    "        'BLUE': image.select('B2')\n",
    "    }).rename('evi')\n",
    "    \n",
    "    # Calculate LAI using the EVI\n",
    "    lai = image.expression('float(3.618 * evi - 0.118)', {\n",
    "        'evi': evi\n",
    "    }).rename('LAI')\n",
    "    \n",
    "    return image.addBands(evi).addBands(lai)\n",
    "\n",
    "# Search image collection\n",
    "s2 = ee.ImageCollection('COPERNICUS/S2_SR') \\\n",
    "    .filterBounds(roi) \\\n",
    "    .filterDate(start_date, end_date) \\\n",
    "    .select(['B2', 'B3', 'B4', 'B6', 'B8', 'B11', 'B12', 'QA60', 'SCL']) \\\n",
    "    .filter(ee.Filter.lt('CLOUDY_PIXEL_PERCENTAGE', cloud_percentage)) \\\n",
    "    .preprocess()\n",
    "\n",
    "s2_index = s2.map(cal_lai)\n",
    "\n",
    "lai_composite= s2_index.median().clip(roi)\n",
    "lai_classes = lai_composite.select('LAI').gte(thresholds_lai).reduce('sum').toInt()\n",
    "\n",
    "# Mask out non-vegetated areas\n",
    "bin_mask = lai_classes.eq(0)\n",
    "mask = bin_mask.eq(0)\n",
    "masked_lai = lai_classes.updateMask(mask)\n",
    "lai_classes = masked_lai\n",
    "\n",
    "# Display interactively\n",
    "lai_map = geemap.Map()\n",
    "left_layer = geemap.ee_tile_layer(lai_classes, lai_class_viz, \n",
    "                                  'Health (' + start_date + ' to ' + end_date + ')')\n",
    "right_layer = geemap.ee_tile_layer(lai_composite, rgb_viz, \n",
    "                                   'RGB (' + start_date + ' to ' + end_date + ')')\n",
    "lai_map.split_map(left_layer=left_layer, right_layer=right_layer)\n",
    "lai_map.centerObject(roi, 12)\n",
    "lai_map.add_legend(title='Vegetation yield', legend_dict=lai_legend_dict, draggable=False, position='bottomleft')\n",
    "lai_map\n"
   ]
  },
  {
   "cell_type": "markdown",
   "id": "aefbdeee-3929-4092-8fbd-9cd9e7ee0b16",
   "metadata": {},
   "source": [
    "## Canopy Nitrogen Content \n",
    "\n",
    "The assessment of canopy nitrogen content involves examine the concentration and distribution of nitrogen within a plant's foliage, facilitating informed decision-making in crop management, fertilization practices, and overall plant health.\n",
    "\n",
    "**Canopy Chlorophyll Content Index (CCCI):** Is an index which is use to monitor the Chlorophyll content of the plants. In cases of nitrogen malnourishment, the plant growth process is disrupted, leading to a halt in chlorophyll development. Monitoring the CCCI aids in detecting nitrogen deficiencies, allowing for timely fertilizer application at precise locations in agricultural fields.\n"
   ]
  },
  {
   "cell_type": "code",
   "execution_count": 23,
   "id": "cd9c2337-7c3a-4c89-b686-3cd59d2945d8",
   "metadata": {},
   "outputs": [
    {
     "data": {
      "text/html": [
       "\n",
       "            <style>\n",
       "                .geemap-dark {\n",
       "                    --jp-widgets-color: white;\n",
       "                    --jp-widgets-label-color: white;\n",
       "                    --jp-ui-font-color1: white;\n",
       "                    --jp-layout-color2: #454545;\n",
       "                    background-color: #383838;\n",
       "                }\n",
       "\n",
       "                .geemap-dark .jupyter-button {\n",
       "                    --jp-layout-color3: #383838;\n",
       "                }\n",
       "\n",
       "                .geemap-colab {\n",
       "                    background-color: var(--colab-primary-surface-color, white);\n",
       "                }\n",
       "\n",
       "                .geemap-colab .jupyter-button {\n",
       "                    --jp-layout-color3: var(--colab-primary-surface-color, white);\n",
       "                }\n",
       "            </style>\n",
       "            "
      ],
      "text/plain": [
       "<IPython.core.display.HTML object>"
      ]
     },
     "metadata": {},
     "output_type": "display_data"
    },
    {
     "data": {
      "application/vnd.jupyter.widget-view+json": {
       "model_id": "79f4ce6eab5d4e109f6a936807c91398",
       "version_major": 2,
       "version_minor": 0
      },
      "text/plain": [
       "Map(center=[2.9774794713318813, 32.394373134471905], controls=(ZoomControl(options=['position', 'zoom_in_text'…"
      ]
     },
     "execution_count": 23,
     "metadata": {},
     "output_type": "execute_result"
    }
   ],
   "source": [
    "def add_ccci(image):\n",
    "    ccci = image.expression(\n",
    "        'float(((NIR - RE) / (NIR + RE))/((NIR - R) / (NIR + R)))', {\n",
    "            'NIR': image.select('B8'),\n",
    "            'R': image.select('B4'),\n",
    "            'RE': image.select('B5')\n",
    "        }).rename('ccci')\n",
    "    return image.addBands(ccci)\n",
    "\n",
    "# Search image collection\n",
    "s2 = ee.ImageCollection('COPERNICUS/S2_SR') \\\n",
    "    .filterBounds(roi) \\\n",
    "    .filterDate(start_date, end_date) \\\n",
    "    .select(['B2', 'B3', 'B4', 'B5', 'B6', 'B8', 'B9', 'B11', 'B12', 'QA60', 'SCL']) \\\n",
    "    .filter(ee.Filter.lt('CLOUDY_PIXEL_PERCENTAGE', cloud_percentage)) \\\n",
    "    .preprocess()\n",
    "\n",
    "# Apply CCCI calculation to each image in the collection\n",
    "s2_cci = s2.map(add_ccci)\n",
    "\n",
    "# Calculate the median composite\n",
    "composite = s2_cci.median().clip(roi)\n",
    "\n",
    "# Create classified image by summing values that are either less or greater than defined thresholds\n",
    "ccci_classes = composite.select('ccci').gte(thresholds_ccci).reduce('sum').toInt()\n",
    "\n",
    "# Mask out non-vegetated areas\n",
    "bin_mask = ccci_classes.eq(0)\n",
    "mask = bin_mask.eq(0)\n",
    "masked_ccci = ccci_classes.updateMask(mask)\n",
    "ccci_classes = masked_ccci\n",
    "\n",
    "# Display interactively\n",
    "ccci_map = geemap.Map()\n",
    "ccci_layer = geemap.ee_tile_layer(ccci_classes, ccci_class_viz, \n",
    "                                  'CCCI (' + start_date + ' to ' + end_date + ')')\n",
    "rgb_layer = geemap.ee_tile_layer(composite, rgb_viz, \n",
    "                                 'RGB (' + start_date + ' to ' + end_date + ')')\n",
    "ccci_map.split_map(left_layer=ccci_layer, right_layer=rgb_layer)\n",
    "ccci_map.centerObject(roi, 12)\n",
    "ccci_map.add_legend(title='Canopy Chlorophy ll Content', legend_dict=ccci_legend_dict, draggable=False, position='bottomleft')\n",
    "ccci_map\n"
   ]
  },
  {
   "cell_type": "markdown",
   "id": "b4cadb95-54de-42b9-9653-805eff867da0",
   "metadata": {},
   "source": [
    "## Canopy moisture/ water content\n",
    "\n",
    "**Normalized Difference Moisture Index (NDMI):** NDMI is a vegetation index that is particularly sensitive to variations in vegetation water content. It enables prompt identification of areas within a farm or field that may be undergoing water stress."
   ]
  },
  {
   "cell_type": "code",
   "execution_count": 24,
   "id": "52b92d20-ebd7-4fe8-acc0-0ed7938ef5ee",
   "metadata": {},
   "outputs": [
    {
     "data": {
      "text/html": [
       "\n",
       "            <style>\n",
       "                .geemap-dark {\n",
       "                    --jp-widgets-color: white;\n",
       "                    --jp-widgets-label-color: white;\n",
       "                    --jp-ui-font-color1: white;\n",
       "                    --jp-layout-color2: #454545;\n",
       "                    background-color: #383838;\n",
       "                }\n",
       "\n",
       "                .geemap-dark .jupyter-button {\n",
       "                    --jp-layout-color3: #383838;\n",
       "                }\n",
       "\n",
       "                .geemap-colab {\n",
       "                    background-color: var(--colab-primary-surface-color, white);\n",
       "                }\n",
       "\n",
       "                .geemap-colab .jupyter-button {\n",
       "                    --jp-layout-color3: var(--colab-primary-surface-color, white);\n",
       "                }\n",
       "            </style>\n",
       "            "
      ],
      "text/plain": [
       "<IPython.core.display.HTML object>"
      ]
     },
     "metadata": {},
     "output_type": "display_data"
    },
    {
     "data": {
      "application/vnd.jupyter.widget-view+json": {
       "model_id": "ad27cbfccf3a40ea802471f7f9e40123",
       "version_major": 2,
       "version_minor": 0
      },
      "text/plain": [
       "Map(center=[2.9774794713318813, 32.394373134471905], controls=(ZoomControl(options=['position', 'zoom_in_text'…"
      ]
     },
     "execution_count": 24,
     "metadata": {},
     "output_type": "execute_result"
    }
   ],
   "source": [
    "def cal_evi(image):\n",
    "    evi = image.expression('float(2.5 * ((NIR - RED) / (NIR + 6 * RED - 7.5 * BLUE + 1)))', {\n",
    "        'NIR': image.select('B8'),\n",
    "        'RED': image.select('B4'),\n",
    "        'BLUE': image.select('B2')\n",
    "    }).rename('evi')\n",
    "    \n",
    "    # Calculate LAI using the EVI\n",
    "    lai = image.expression('float(3.618 * evi - 0.118)', {\n",
    "        'evi': evi\n",
    "    }).rename('lai')\n",
    "    \n",
    "    return image.addBands(evi).addBands(lai)\n",
    "\n",
    "#seaarch for images\n",
    "\n",
    "s2 = ee.ImageCollection('COPERNICUS/S2_SR') \\\n",
    "    .filterBounds(roi) \\\n",
    "    .filterDate(start_date, end_date) \\\n",
    "    .select('B2','B3','B4','B6','B8','B11','B12','QA60','SCL') \\\n",
    "    .filter(ee.Filter.lt('CLOUDY_PIXEL_PERCENTAGE', cloud_percentage)) \\\n",
    "    .preprocess()\n",
    "\n",
    "s2_index = s2.map(cal_evi)\n",
    "nmdi_composite = s2_index.spectralIndices(['NDMI']).median().clip(roi)\n",
    "\n",
    "\n",
    "# Create classified image by summing values that are either less or greater than defined thresholds\n",
    "nmdi_classes = nmdi_composite.select('NDMI').gte(thresholds_nmdi_veg).reduce('sum').toInt()\n",
    "        \n",
    "\n",
    "# Mask out non-vegetated areas\n",
    "bin_mask = nmdi_composite.select('lai').gte(1)\n",
    "mask = bin_mask.eq(1)\n",
    "masked = nmdi_classes.updateMask(mask)\n",
    "nmdi_classes = masked\n",
    "\n",
    "\n",
    "# Display interactively\n",
    "moisture_map = geemap.Map()\n",
    "left_layer = geemap.ee_tile_layer(nmdi_classes, nmdi_class_viz, \n",
    "                                  'Water (' + start_date + ' to ' + end_date + ')')\n",
    "right_layer = geemap.ee_tile_layer(nmdi_composite, rgb_viz, \n",
    "                                  'RGB (' + start_date + ' to ' + end_date + ')')\n",
    "moisture_map.split_map(left_layer = left_layer, right_layer = right_layer)\n",
    "moisture_map.centerObject(roi, 12)\n",
    "moisture_map.add_legend(title='Vegetation Canopy moisture', legend_dict=nmdi_legend_dict, draggable=False, position='bottomleft')\n",
    "moisture_map"
   ]
  },
  {
   "cell_type": "markdown",
   "id": "b3cd3593-4e8a-416b-9727-315ae338d1b8",
   "metadata": {},
   "source": [
    "### Canopy fire Potential\n",
    "\n",
    "Canopy fire potential index estimates the susceptibility of vegetation canopies, such as forests or grasslands, to catch fire under specific conditions. This index is a linear combination of relative greeness (RG) and the NMDI.\n",
    "\n",
    "References:\n",
    "    Caccamo, G., Chisholm, L.A., Bradstock, R.A., Puotinen, M.L. and Pippen, B.G., 2011. Monitoring live fuel moisture content of heathland, shrubland and sclerophyll forest in south-eastern Australia using MODIS data. International Journal of Wildland Fire, 21(3), pp.257-269.\n"
   ]
  },
  {
   "cell_type": "code",
   "execution_count": 25,
   "id": "129f64e6-b419-485c-93f6-7d3cb7fbdb11",
   "metadata": {},
   "outputs": [
    {
     "data": {
      "text/html": [
       "\n",
       "            <style>\n",
       "                .geemap-dark {\n",
       "                    --jp-widgets-color: white;\n",
       "                    --jp-widgets-label-color: white;\n",
       "                    --jp-ui-font-color1: white;\n",
       "                    --jp-layout-color2: #454545;\n",
       "                    background-color: #383838;\n",
       "                }\n",
       "\n",
       "                .geemap-dark .jupyter-button {\n",
       "                    --jp-layout-color3: #383838;\n",
       "                }\n",
       "\n",
       "                .geemap-colab {\n",
       "                    background-color: var(--colab-primary-surface-color, white);\n",
       "                }\n",
       "\n",
       "                .geemap-colab .jupyter-button {\n",
       "                    --jp-layout-color3: var(--colab-primary-surface-color, white);\n",
       "                }\n",
       "            </style>\n",
       "            "
      ],
      "text/plain": [
       "<IPython.core.display.HTML object>"
      ]
     },
     "metadata": {},
     "output_type": "display_data"
    },
    {
     "data": {
      "application/vnd.jupyter.widget-view+json": {
       "model_id": "5c306c88bc1e4f9597c83f56c62cccb6",
       "version_major": 2,
       "version_minor": 0
      },
      "text/plain": [
       "Map(center=[2.9774794713318813, 32.394373134471905], controls=(ZoomControl(options=['position', 'zoom_in_text'…"
      ]
     },
     "execution_count": 25,
     "metadata": {},
     "output_type": "execute_result"
    }
   ],
   "source": [
    "# Define constants\n",
    "vi = 'evi'\n",
    "x_years= 5\n",
    "end_date_datetime = datetime.strptime(end_date, '%Y-%m-%d')\n",
    "current_year = end_date_datetime.year\n",
    "current_month = end_date_datetime.month\n",
    "\n",
    "\n",
    "# Function to calculate EVI and LAI\n",
    "def add_indices(image):\n",
    "    evi = image.expression('float(2.5 * ((NIR - RED) / (NIR + 6 * RED - 7.5 * BLUE + 1)))', {\n",
    "        'NIR': image.select('B8'),\n",
    "        'RED': image.select('B4'),\n",
    "        'BLUE': image.select('B2')\n",
    "    }).rename('evi')\n",
    "\n",
    "    # Calculate LAI using the EVI\n",
    "    lai = image.expression('float(3.618 * evi - 0.118)', {\n",
    "        'evi': evi\n",
    "    }).rename('lai')\n",
    "    \n",
    "    # Calculate NMDI for soil \n",
    "    nmdi_soil = image.expression('float(0.9 - ((NIR - (SWIR1 - SWIR2))/(NIR + (SWIR1 - SWIR2))))', {\n",
    "            'NIR': image.select('B8'),\n",
    "            'SWIR1': image.select('B11'),\n",
    "            'SWIR2': image.select('B12'),\n",
    "            }).rename('nmdi_soil')\n",
    "    \n",
    "    # Calculate NMDI for vegetation\n",
    "    nmdi_veg = image.expression('float((NIR - (SWIR1 - SWIR2))/(NIR + (SWIR1 - SWIR2)))', {\n",
    "            'NIR': image.select('B8'),\n",
    "            'SWIR1': image.select('B11'),\n",
    "            'SWIR2': image.select('B12'),\n",
    "            }).rename('nmdi_veg')\n",
    "\n",
    "    return image.addBands(evi).addBands(lai).addBands(nmdi_soil).addBands(nmdi_veg)\n",
    "\n",
    "\n",
    "\n",
    "\n",
    "# Image collection for current VI\n",
    "start = ee.Date.fromYMD(current_year, current_month, 1)\n",
    "end = ee.Date.fromYMD(current_year, current_month, calendar.monthrange(current_year, current_month)[1])\n",
    "\n",
    "s2 = ee.ImageCollection('COPERNICUS/S2_SR') \\\n",
    "    .filterBounds(roi) \\\n",
    "    .filterDate(start, end) \\\n",
    "    .select('B2','B3','B4','B8','B11','B12','QA60','SCL') \\\n",
    "    .filter(ee.Filter.lt('CLOUDY_PIXEL_PERCENTAGE', cloud_percentage)) \\\n",
    "    .preprocess()\n",
    "\n",
    "# Create median composite of current VIs\n",
    "composite = s2.map(add_indices).median().clip(roi)\n",
    "s2_vi = composite.select(vi)\n",
    "mask = composite.select('lai').lt(1)\n",
    "s2_ndmi_soil = composite.select('nmdi_soil').updateMask(mask)\n",
    "mask = composite.select('lai').gte(1)\n",
    "s2_ndmi_veg = composite.select('nmdi_veg').updateMask(mask)\n",
    "\n",
    "\n",
    "\n",
    "# Image collection for minimum SI\n",
    "s2_vi_min_max = ee.ImageCollection('COPERNICUS/S2_SR') \\\n",
    "    .filterBounds(roi) \\\n",
    "    .filterDate(ee.Date.fromYMD(current_year - x_years, current_month, 1), start) \\\n",
    "    .select('B2','B3','B4','B8','B11','B12','QA60','SCL') \\\n",
    "    .filter(ee.Filter.lt('CLOUDY_PIXEL_PERCENTAGE', cloud_percentage)) \\\n",
    "    .preprocess()\n",
    "\n",
    "# Create median composite of minimum and maximum VI\n",
    "composite_min = s2_vi_min_max.map(add_indices).min().clip(roi)\n",
    "composite_max = s2_vi_min_max.map(add_indices).max().clip(roi)\n",
    "s2_vi_min = composite_min.select(vi)\n",
    "s2_vi_max = composite_max.select(vi)\n",
    "\n",
    "# Calculate the relative greenness\n",
    "rg = (s2_vi.subtract(s2_vi_min)).divide(s2_vi_max.subtract(s2_vi_min)) \\\n",
    "    .rename('rel_green')\n",
    "\n",
    "# Calculate the fire potential index\n",
    "fpi_soil = (rg.subtract(s2_ndmi_soil)).divide(s2_ndmi_soil)\n",
    "fpi_veg = (rg.subtract(s2_ndmi_veg)).divide(s2_ndmi_veg)\n",
    "\n",
    "# Create classified image by summing values that are either less or greater than defined thresholds\n",
    "fpi_soil_classes = fpi_soil.gt(thresholds_nmdi_soil).reduce('sum').toInt()\n",
    "fpi_veg_classes = fpi_veg.gt(thresholds_nmdi_veg).reduce('sum').toInt()\n",
    "fpi = ee.ImageCollection([fpi_soil_classes, fpi_veg_classes]).mosaic()\n",
    "\n",
    "# Mask out non-vegetated areas (i.e., where NDVI/EVI < 0.2)\n",
    "bin_mask = s2_vi.lt(0.2).reduce('sum').toInt()\n",
    "mask = bin_mask.eq(0)\n",
    "masked = fpi.updateMask(mask)\n",
    "fpi = masked\n",
    "\n",
    "# Display interactively\n",
    "fire_map = geemap.Map()\n",
    "left_layer = geemap.ee_tile_layer(fpi, fpi_class_viz, 'Fire Potential Index')\n",
    "right_layer = geemap.ee_tile_layer(composite, rgb_viz, 'RGB')\n",
    "fire_map.split_map(left_layer=left_layer, right_layer=right_layer)\n",
    "fire_map.centerObject(roi, 12)\n",
    "fire_map.add_legend(title='Vegetation fire potential', legend_dict=fpi_legend_dict, draggable=False, position='bottomleft')\n",
    "\n",
    "fire_map\n"
   ]
  },
  {
   "cell_type": "code",
   "execution_count": null,
   "id": "7423f150-1533-47c8-a8d9-c52bb5845b68",
   "metadata": {},
   "outputs": [],
   "source": []
  }
 ],
 "metadata": {
  "kernelspec": {
   "display_name": "Python 3 (ipykernel)",
   "language": "python",
   "name": "python3"
  },
  "language_info": {
   "codemirror_mode": {
    "name": "ipython",
    "version": 3
   },
   "file_extension": ".py",
   "mimetype": "text/x-python",
   "name": "python",
   "nbconvert_exporter": "python",
   "pygments_lexer": "ipython3",
   "version": "3.11.10"
  }
 },
 "nbformat": 4,
 "nbformat_minor": 5
}
